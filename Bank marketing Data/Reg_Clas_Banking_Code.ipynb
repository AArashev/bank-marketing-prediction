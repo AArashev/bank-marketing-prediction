{
  "nbformat": 4,
  "nbformat_minor": 0,
  "metadata": {
    "colab": {
      "provenance": [],
      "toc_visible": true
    },
    "kernelspec": {
      "name": "python3",
      "display_name": "Python 3"
    },
    "language_info": {
      "name": "python"
    }
  },
  "cells": [
    {
      "cell_type": "markdown",
      "source": [
        "##Regression Classification Project\n",
        "*Atajan Arashev*\n",
        "\n",
        "\n",
        "\n",
        "10/10/2024\n"
      ],
      "metadata": {
        "id": "Ur-b_9wsc_wx"
      }
    },
    {
      "cell_type": "markdown",
      "source": [
        "##Project Overview\n",
        "Abstract: This project involved analyzing data from direct marketing campaigns conducted by a Portuguese banking institution, where the goal was to predict whether a client would subscribe to a term deposit (variable y). The dataset contains attributes related to the bank's clients and their interaction with the campaigns, which included phone calls. The task was to evaluate and select the best-fit models for both regression and classification tasks. For regression models, we used **Support Vector Regression (SVR)**, **Decision Tree Regression**, and **Random Forest Regression** to predict continuous outputs, applying feature selection and scaling where necessary. For classification, models such as **Logistic Regression**, **Random Forest Classifier**, and **Support Vector Classifier (SVC)** were used to predict whether a client would subscribe (yes/no). Feature engineering involved one-hot encoding for categorical variables and scaling for models sensitive to feature size, like **Logistic Regression** and **SVC**. Based on performance metrics such as **MSE**, **R² score**, **accuracy**, **precision**, **recall**, and **F1 score**, **the Random Forest** models provided the most balanced performance across tasks. The classification models especially benefited from using all encoded features, while regression models worked best with a selected set of top features.\n",
        "\n",
        "**Features used in the project:**\n",
        "\n",
        "* Age (numeric)\n",
        "* Job (categorical, encoded)\n",
        "* Marital status (categorical, encoded)\n",
        "* Education (categorical, encoded)\n",
        "* Default (has credit in default?) (categorical, encoded)\n",
        "* Housing loan status (categorical, encoded)\n",
        "* Personal loan status (categorical, encoded)\n",
        "* Contact type (categorical, encoded)\n",
        "* Last contact month (categorical, encoded)\n",
        "* Last contact day of the week (categorical, encoded)\n",
        "* Campaign (numeric, number of contacts during the campaign)\n",
        "* Pdays (numeric, days since last contact)\n",
        "* Previous (numeric, previous number of contacts)\n",
        "* Poutcome (outcome of previous campaign, categorical, encoded)\n",
        "* Emp.var.rate (numeric, employment variation rate)\n",
        "* Cons.price.idx (numeric, consumer price index)\n",
        "* Cons.conf.idx (numeric, consumer confidence index)\n",
        "* Euribor3m (numeric, Euribor 3-month rate)\n",
        "* Nr.employed (numeric, number of employees)\n",
        "* **y (output target: whether the client subscribed a term deposit, binary)**"
      ],
      "metadata": {
        "id": "S6LdhRQVzX0b"
      }
    },
    {
      "cell_type": "code",
      "source": [
        "# Importing necessary libraries\n",
        "import pandas as pd\n",
        "from sklearn.model_selection import train_test_split\n",
        "from sklearn.feature_selection import SelectKBest, f_regression\n",
        "from sklearn.svm import SVR\n",
        "from sklearn.tree import DecisionTreeRegressor\n",
        "from sklearn.metrics import mean_squared_error, r2_score\n",
        "from sklearn.preprocessing import PolynomialFeatures, StandardScaler\n",
        "from sklearn.linear_model import LinearRegression\n",
        "from sklearn.ensemble import RandomForestRegressor\n",
        "\n",
        "# Load the dataset\n",
        "data = pd.read_csv('bank-direct-marketing-campaigns.csv')\n",
        "\n",
        "# Checking for missing values\n",
        "print(data.isnull().sum())\n",
        "\n",
        "\n",
        "\n"
      ],
      "metadata": {
        "colab": {
          "base_uri": "https://localhost:8080/"
        },
        "id": "6vrU4bVLcIaD",
        "outputId": "0ac1ba86-e8b5-4003-e872-5dc26cac02df"
      },
      "execution_count": null,
      "outputs": [
        {
          "output_type": "stream",
          "name": "stdout",
          "text": [
            "age               0\n",
            "job               0\n",
            "marital           0\n",
            "education         0\n",
            "default           0\n",
            "housing           0\n",
            "loan              0\n",
            "contact           0\n",
            "month             0\n",
            "day_of_week       0\n",
            "campaign          0\n",
            "pdays             0\n",
            "previous          0\n",
            "poutcome          0\n",
            "emp.var.rate      0\n",
            "cons.price.idx    0\n",
            "cons.conf.idx     0\n",
            "euribor3m         0\n",
            "nr.employed       0\n",
            "y                 0\n",
            "dtype: int64\n"
          ]
        }
      ]
    },
    {
      "cell_type": "markdown",
      "source": [
        "##Features Selection\n",
        "For the regression models, the top 10 selected features using SelectKBest are:\n",
        "\n",
        "pdays: Days since the client was last contacted.\n",
        "previous: Number of contacts performed before this campaign.\n",
        "emp.var.rate: Employment variation rate.\n",
        "euribor3m: Euribor 3-month rate.\n",
        "nr.employed: Number of employees.\n",
        "contact_telephone: Whether the client was contacted via telephone.\n",
        "month_mar: Whether the contact occurred in March.\n",
        "month_oct: Whether the contact occurred in October.\n",
        "poutcome_nonexistent: Whether the outcome of the previous campaign was nonexistent.\n",
        "poutcome_success: Whether the outcome of the previous campaign was a success.\n",
        "These features were selected because they showed the highest relevance to the target variable (y) using f_regression as the scoring function. All models (SVR, Decision Tree, Polynomial Regression, and Random Forest) will use these selected features for training and predictions."
      ],
      "metadata": {
        "id": "YRZgEvL2yZjL"
      }
    },
    {
      "cell_type": "code",
      "source": [
        "# Identifying numeric features for regression\n",
        "numeric_columns = ['age', 'campaign', 'pdays', 'previous', 'emp.var.rate',\n",
        "                   'cons.price.idx', 'cons.conf.idx', 'euribor3m', 'nr.employed']\n",
        "\n",
        "# Applying One-Hot Encoding to categorical variables (which don't have an ordinal relationship)\n",
        "categorical_columns = ['job', 'marital', 'education', 'default', 'housing', 'loan',\n",
        "                       'contact', 'month', 'day_of_week', 'poutcome']\n",
        "data_encoded = pd.get_dummies(data, columns=categorical_columns, drop_first=True)\n",
        "\n",
        "# Binary encoding for the target variable 'y'\n",
        "data_encoded['y'] = data_encoded['y'].apply(lambda x: 1 if x == 'yes' else 0)\n",
        "\n",
        "# Re-assessing the features by selecting only numeric features\n",
        "X = data_encoded[numeric_columns + list(data_encoded.columns.difference(numeric_columns + ['y']))]\n",
        "y = data_encoded['y']\n",
        "\n",
        "# Selecting top 10 features using SelectKBest with f_regression\n",
        "selector = SelectKBest(score_func=f_regression, k=10)\n",
        "X_new = selector.fit_transform(X, y)\n",
        "\n",
        "# Getting the names of the selected features\n",
        "selected_features = X.columns[selector.get_support()]\n",
        "print(\"Selected Features:\", selected_features)"
      ],
      "metadata": {
        "colab": {
          "base_uri": "https://localhost:8080/"
        },
        "id": "zZC8KTKbelj4",
        "outputId": "bf81901a-9035-44ba-897e-3a6241715058"
      },
      "execution_count": null,
      "outputs": [
        {
          "output_type": "stream",
          "name": "stdout",
          "text": [
            "Selected Features: Index(['pdays', 'previous', 'emp.var.rate', 'euribor3m', 'nr.employed',\n",
            "       'contact_telephone', 'month_mar', 'month_oct', 'poutcome_nonexistent',\n",
            "       'poutcome_success'],\n",
            "      dtype='object')\n"
          ]
        }
      ]
    },
    {
      "cell_type": "code",
      "source": [
        "# Using selected features for training\n",
        "X_selected = data_encoded[selected_features]\n",
        "\n",
        "# Splitting the dataset into training and testing sets\n",
        "X_train, X_test, y_train, y_test = train_test_split(X_selected, y, test_size=0.2, random_state=42)\n"
      ],
      "metadata": {
        "id": "ZCoQWPG7equd"
      },
      "execution_count": null,
      "outputs": []
    },
    {
      "cell_type": "code",
      "source": [
        "# Scaling features\n",
        "scaler = StandardScaler()\n",
        "X_train_scaled = scaler.fit_transform(X_train)\n",
        "X_test_scaled = scaler.transform(X_test)\n"
      ],
      "metadata": {
        "id": "y4TRKpcbetwf"
      },
      "execution_count": null,
      "outputs": []
    },
    {
      "cell_type": "markdown",
      "source": [
        "![SCale.JPG](data:image/jpeg;base64,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)"
      ],
      "metadata": {
        "id": "qO49G9fSwZpB"
      }
    },
    {
      "cell_type": "code",
      "source": [
        "\n",
        "# Decision Tree Regression\n",
        "dt_model = DecisionTreeRegressor()\n",
        "dt_model.fit(X_train_scaled, y_train)\n",
        "y_pred_dt = dt_model.predict(X_test_scaled)"
      ],
      "metadata": {
        "id": "o8dcTXTZe3C6"
      },
      "execution_count": null,
      "outputs": []
    },
    {
      "cell_type": "markdown",
      "source": [
        "##Support Vector Regression (SVR):\n",
        "Scaling applied because SVR is also a distance-based method and highly sensitive to the scale of features."
      ],
      "metadata": {
        "id": "aWIg008UxXhE"
      }
    },
    {
      "cell_type": "code",
      "source": [
        "\n",
        "# Support Vector Regression (SVR)\n",
        "svr_model = SVR()\n",
        "svr_model.fit(X_train_scaled, y_train)\n",
        "y_pred_svr = svr_model.predict(X_test_scaled)"
      ],
      "metadata": {
        "id": "3peViTnPe5nL"
      },
      "execution_count": null,
      "outputs": []
    },
    {
      "cell_type": "markdown",
      "source": [
        "##Polynomial Regression\n",
        "Scaling applied to ensure consistent results for polynomial transformations and avoid extremely large feature values due to polynomial expansions."
      ],
      "metadata": {
        "id": "X1PR2O2BxLle"
      }
    },
    {
      "cell_type": "code",
      "source": [
        "# Polynomial Regression\n",
        "poly_reg = PolynomialFeatures(degree=4)\n",
        "X_poly_train = poly_reg.fit_transform(X_train_scaled)\n",
        "\n",
        "# Re-initializing Linear Regression for Polynomial Regression\n",
        "poly_model = LinearRegression()\n",
        "poly_model.fit(X_poly_train, y_train)\n",
        "\n",
        "# Polynomial Regression predictions\n",
        "y_pred_poly = poly_model.predict(poly_reg.fit_transform(X_test_scaled))"
      ],
      "metadata": {
        "id": "kw7yt_7fe87_"
      },
      "execution_count": null,
      "outputs": []
    },
    {
      "cell_type": "code",
      "source": [
        "# Random Forest Regression\n",
        "rf_model = RandomForestRegressor(n_estimators=100, random_state=42)\n",
        "rf_model.fit(X_train, y_train)\n",
        "y_pred_rf = rf_model.predict(X_test)"
      ],
      "metadata": {
        "id": "elaJwXzhe_pL"
      },
      "execution_count": null,
      "outputs": []
    },
    {
      "cell_type": "code",
      "source": [
        "# Evaluating the models\n",
        "# Support Vector Regression (SVR)\n",
        "svr_mse = mean_squared_error(y_test, y_pred_svr)\n",
        "svr_r2 = r2_score(y_test, y_pred_svr)\n",
        "\n",
        "# Decision Tree Regression (DT)\n",
        "dt_mse = mean_squared_error(y_test, y_pred_dt)\n",
        "dt_r2 = r2_score(y_test, y_pred_dt)\n",
        "\n",
        "# Random Forest Regression (RF)\n",
        "rf_mse = mean_squared_error(y_test, y_pred_rf)\n",
        "rf_r2 = r2_score(y_test, y_pred_rf)\n",
        "\n",
        "# Polynomial Regression\n",
        "poly_mse = mean_squared_error(y_test, y_pred_poly)\n",
        "poly_r2 = r2_score(y_test, y_pred_poly)\n",
        "\n",
        "# Printing the results\n",
        "print(\"Polynomial Regression - MSE:\", poly_mse, \"R²:\", poly_r2)\n",
        "print(\"Support Vector Regression (SVR) - MSE:\", svr_mse, \"R²:\", svr_r2)\n",
        "print(\"Decision Tree Regression (DT) - MSE:\", dt_mse, \"R²:\", dt_r2)\n",
        "print(\"Random Forest Regression (RF) - MSE:\", rf_mse, \"R²:\", rf_r2)"
      ],
      "metadata": {
        "colab": {
          "base_uri": "https://localhost:8080/"
        },
        "id": "f9RigZQCfDBt",
        "outputId": "87d7af9f-d758-460c-df5b-0a6696892778"
      },
      "execution_count": null,
      "outputs": [
        {
          "output_type": "stream",
          "name": "stdout",
          "text": [
            "Polynomial Regression - MSE: 59049066125.220406 R²: -586872415791.8712\n",
            "Support Vector Regression (SVR) - MSE: 0.09070064558052075 R²: 0.0985512476533762\n",
            "Decision Tree Regression (DT) - MSE: 0.08945926096635713 R²: 0.11088902765987729\n",
            "Random Forest Regression (RF) - MSE: 0.08299770034327279 R²: 0.17510870023894876\n"
          ]
        }
      ]
    },
    {
      "cell_type": "markdown",
      "source": [
        "##SECOND PART CLASSIFICATION\n",
        "\n",
        "Regression Models:\n",
        "\n",
        "We narrowed down the feature set to improve performance and avoid overfitting since regression models tend to struggle with a large number of irrelevant features.\n",
        "We used SelectKBest to choose the top features that have the most predictive power for continuous output.\n",
        "Classification Models:\n",
        "\n",
        "Classification models, especially tree-based ones like Random Forest Classifier, can handle more features, so we used the full feature set to allow the models to learn from all available data.\n",
        "This approach helps classification models make better decisions in distinguishing between the two classes.\n",
        "\n"
      ],
      "metadata": {
        "id": "serr_9Exfr2H"
      }
    },
    {
      "cell_type": "code",
      "source": [
        "# Importing necessary libraries for classification models\n",
        "from sklearn.linear_model import LogisticRegression\n",
        "from sklearn.ensemble import RandomForestClassifier\n",
        "from sklearn.svm import SVC\n",
        "from sklearn.metrics import accuracy_score, precision_score, recall_score, f1_score\n",
        "from sklearn.preprocessing import StandardScaler\n",
        "\n",
        "# Reassessing the features specifically for classification models\n",
        "\n",
        "# We can use the full set of encoded features as input for the classification models.\n",
        "# Retaining numeric and categorical encoded features:\n",
        "X_classification = data_encoded.drop('y', axis=1)  # Use all features except the target\n",
        "y_classification = data_encoded['y']\n",
        "\n"
      ],
      "metadata": {
        "id": "I1rMYODfd2GZ"
      },
      "execution_count": null,
      "outputs": []
    },
    {
      "cell_type": "code",
      "source": [
        "# Splitting the dataset into training and testing sets\n",
        "X_train_classification, X_test_classification, y_train_classification, y_test_classification = train_test_split(X_classification, y_classification, test_size=0.2, random_state=42)\n",
        "\n",
        "# Standardizing the features for Logistic Regression and SVC\n",
        "scaler = StandardScaler()\n",
        "X_train_scaled_classification = scaler.fit_transform(X_train_classification)  # For Logistic Regression and SVC\n",
        "X_test_scaled_classification = scaler.transform(X_test_classification)\n"
      ],
      "metadata": {
        "id": "RSFmjv_xfalK"
      },
      "execution_count": null,
      "outputs": []
    },
    {
      "cell_type": "markdown",
      "source": [
        "##Logistic Regression:\n",
        "Scaling applied because Logistic Regression involves distance-based calculations."
      ],
      "metadata": {
        "id": "u7LwceOMf3br"
      }
    },
    {
      "cell_type": "code",
      "source": [
        "# 1. Logistic Regression\n",
        "log_reg_model = LogisticRegression(max_iter=500)  # Increased max_iter to ensure convergence\n",
        "log_reg_model.fit(X_train_scaled_classification, y_train_classification)\n",
        "y_pred_log_reg = log_reg_model.predict(X_test_scaled_classification)"
      ],
      "metadata": {
        "id": "LEwljp9TxovY"
      },
      "execution_count": null,
      "outputs": []
    },
    {
      "cell_type": "markdown",
      "source": [
        "##Support Vector Classifier (SVC)\n",
        "Scaling applied because SVC is sensitive to feature scale, especially for non-linear kernels like RBF."
      ],
      "metadata": {
        "id": "Bv0j5gxwxe44"
      }
    },
    {
      "cell_type": "code",
      "source": [
        "# 3. Support Vector Classifier (SVC)\n",
        "svc_model = SVC()\n",
        "svc_model.fit(X_train_scaled_classification, y_train_classification)\n",
        "y_pred_svc = svc_model.predict(X_test_scaled_classification)"
      ],
      "metadata": {
        "id": "-jWGgZEJxely"
      },
      "execution_count": null,
      "outputs": []
    },
    {
      "cell_type": "markdown",
      "source": [
        "## Random Forest Classifier\n",
        "(does not need scaling)\n"
      ],
      "metadata": {
        "id": "sCHzulTcx2Gx"
      }
    },
    {
      "cell_type": "code",
      "source": [
        "\n",
        "# 2. Random Forest Classifier (does not need scaling)\n",
        "rf_classifier = RandomForestClassifier(n_estimators=100, random_state=42)\n",
        "rf_classifier.fit(X_train_classification, y_train_classification)\n",
        "y_pred_rf_clf = rf_classifier.predict(X_test_classification)"
      ],
      "metadata": {
        "id": "Go0jLJ4sfeJE"
      },
      "execution_count": null,
      "outputs": []
    },
    {
      "cell_type": "code",
      "source": [
        "# Define a function to print the classification metrics\n",
        "def print_classification_metrics(y_true, y_pred, model_name):\n",
        "    print(f\"--- {model_name} ---\")\n",
        "    print(f\"Accuracy: {accuracy_score(y_true, y_pred)}\")\n",
        "    print(f\"Precision: {precision_score(y_true, y_pred)}\")\n",
        "    print(f\"Recall: {recall_score(y_true, y_pred)}\")\n",
        "    print(f\"F1 Score: {f1_score(y_true, y_pred)}\\n\")\n",
        "\n",
        "# Evaluating models using classification metrics\n",
        "print_classification_metrics(y_test_classification, y_pred_log_reg, \"Logistic Regression\")\n",
        "print_classification_metrics(y_test_classification, y_pred_rf_clf, \"Random Forest Classifier\")\n",
        "print_classification_metrics(y_test_classification, y_pred_svc, \"Support Vector Classifier\")"
      ],
      "metadata": {
        "colab": {
          "base_uri": "https://localhost:8080/"
        },
        "id": "xkd2oVrHfhNa",
        "outputId": "9098bc87-8d1e-4045-95bb-418c7368b654"
      },
      "execution_count": null,
      "outputs": [
        {
          "output_type": "stream",
          "name": "stdout",
          "text": [
            "--- Logistic Regression ---\n",
            "Accuracy: 0.8968196164117505\n",
            "Precision: 0.6366559485530546\n",
            "Recall: 0.21176470588235294\n",
            "F1 Score: 0.31781701444622795\n",
            "\n",
            "--- Random Forest Classifier ---\n",
            "Accuracy: 0.891964068948774\n",
            "Precision: 0.5445544554455446\n",
            "Recall: 0.29411764705882354\n",
            "F1 Score: 0.3819444444444444\n",
            "\n",
            "--- Support Vector Classifier ---\n",
            "Accuracy: 0.8970623937848993\n",
            "Precision: 0.6283185840707964\n",
            "Recall: 0.22780748663101605\n",
            "F1 Score: 0.33437990580847726\n",
            "\n"
          ]
        }
      ]
    },
    {
      "cell_type": "markdown",
      "source": [
        "##Accuracy: Measures the ratio of correct predictions.\n",
        "##Precision: Out of the predicted positives, how many were actual positives.\n",
        "##Recall: Out of the actual positives, how many were predicted correctly.\n",
        "##F1 Score: The harmonic mean of precision and recall."
      ],
      "metadata": {
        "id": "oHZU8Tz7uPCY"
      }
    },
    {
      "cell_type": "markdown",
      "source": [
        "##Tuning hyperparameters"
      ],
      "metadata": {
        "id": "pcKyB6zFiOyg"
      }
    },
    {
      "cell_type": "markdown",
      "source": [
        "##GridSearchCV:\n",
        "\n",
        "We create a parameter grid (param_grid) for each model, specifying the hyperparameter values to try.\n",
        "GridSearchCV automatically tries all combinations of the parameters and selects the best combination based on cross-validation (cv=5).\n",
        "scoring='f1': We use F1 score as the evaluation metric, but you can use accuracy, precision, or recall if needed.\n",
        "Fit the Grid Search:\n",
        "\n",
        "For each model (Logistic Regression, Random Forest, SVC), we fit the grid search on the training data. This will take some time depending on the number of parameters and combinations.\n",
        "Best Params:\n",
        "\n",
        "After the search is complete, best_params_ will display the best hyperparameters found."
      ],
      "metadata": {
        "id": "lbubaaNivGu_"
      }
    },
    {
      "cell_type": "code",
      "source": [
        "from sklearn.model_selection import GridSearchCV\n",
        "\n",
        "# Logistic Regression Tuning\n",
        "log_reg_param_grid = {\n",
        "    'C': [0.1, 1, 10],  # Regularization strength\n",
        "    'solver': ['lbfgs', 'liblinear']\n",
        "}\n",
        "log_reg_grid = GridSearchCV(LogisticRegression(max_iter=500), log_reg_param_grid, cv=5, scoring='f1')\n",
        "log_reg_grid.fit(X_train_scaled_classification, y_train_classification)\n",
        "print(\"Best Logistic Regression Params:\", log_reg_grid.best_params_)"
      ],
      "metadata": {
        "colab": {
          "base_uri": "https://localhost:8080/"
        },
        "id": "qKwso1gihhL2",
        "outputId": "d1201865-624e-4ab4-820e-54e9e820b7d3"
      },
      "execution_count": null,
      "outputs": [
        {
          "output_type": "stream",
          "name": "stdout",
          "text": [
            "Best Logistic Regression Params: {'C': 10, 'solver': 'liblinear'}\n"
          ]
        }
      ]
    },
    {
      "cell_type": "code",
      "source": [
        "# Random Forest Classifier Tuning\n",
        "rf_param_grid = {\n",
        "    'n_estimators': [50, 100, 200],\n",
        "    'max_depth': [None, 10, 20, 30],\n",
        "    'min_samples_split': [2, 5, 10]\n",
        "}\n",
        "rf_grid = GridSearchCV(RandomForestClassifier(random_state=42), rf_param_grid, cv=5, scoring='f1')\n",
        "rf_grid.fit(X_train_classification, y_train_classification)\n",
        "print(\"Best Random Forest Params:\", rf_grid.best_params_)"
      ],
      "metadata": {
        "id": "JC-AwgVh6wuM"
      },
      "execution_count": null,
      "outputs": []
    },
    {
      "cell_type": "code",
      "source": [
        "from sklearn.model_selection import GridSearchCV\n",
        "from sklearn.svm import SVC\n",
        "\n",
        "# Optimized parameter grid for faster tuning\n",
        "svc_param_grid = {\n",
        "    'C': [1, 10],  # Fewer values for 'C'\n",
        "    'kernel': ['linear', 'rbf'],  # Removed 'poly' kernel for speed\n",
        "    'gamma': ['scale']  # Only 'scale' to reduce combinations\n",
        "}\n",
        "\n",
        "# Using 3-fold cross-validation to reduce processing time\n",
        "svc_grid = GridSearchCV(SVC(), svc_param_grid, cv=3, scoring='f1')\n",
        "\n",
        "# Fit the model\n",
        "svc_grid.fit(X_train_scaled_classification, y_train_classification)\n",
        "\n",
        "# Get the best parameters\n",
        "print(\"Best SVC Params:\", svc_grid.best_params_)"
      ],
      "metadata": {
        "id": "91YMw3sB6zmP",
        "colab": {
          "base_uri": "https://localhost:8080/",
          "height": 373
        },
        "outputId": "ff0f73e3-5928-493f-8823-cc8eba8d1e9c"
      },
      "execution_count": 13,
      "outputs": [
        {
          "ename": "KeyboardInterrupt",
          "evalue": "",
          "output_type": "error",
          "traceback": [
            "\u001b[0;31m---------------------------------------------------------------------------\u001b[0m",
            "\u001b[0;31mKeyboardInterrupt\u001b[0m                         Traceback (most recent call last)",
            "\u001b[0;32m<ipython-input-13-8fbb0f9bca1b>\u001b[0m in \u001b[0;36m<cell line: 15>\u001b[0;34m()\u001b[0m\n\u001b[1;32m     13\u001b[0m \u001b[0;34m\u001b[0m\u001b[0m\n\u001b[1;32m     14\u001b[0m \u001b[0;31m# Fit the model\u001b[0m\u001b[0;34m\u001b[0m\u001b[0;34m\u001b[0m\u001b[0m\n\u001b[0;32m---> 15\u001b[0;31m \u001b[0msvc_grid\u001b[0m\u001b[0;34m.\u001b[0m\u001b[0mfit\u001b[0m\u001b[0;34m(\u001b[0m\u001b[0mX_train_scaled_classification\u001b[0m\u001b[0;34m,\u001b[0m \u001b[0my_train_classification\u001b[0m\u001b[0;34m)\u001b[0m\u001b[0;34m\u001b[0m\u001b[0;34m\u001b[0m\u001b[0m\n\u001b[0m\u001b[1;32m     16\u001b[0m \u001b[0;34m\u001b[0m\u001b[0m\n\u001b[1;32m     17\u001b[0m \u001b[0;31m# Get the best parameters\u001b[0m\u001b[0;34m\u001b[0m\u001b[0;34m\u001b[0m\u001b[0m\n",
            "\u001b[0;32m/usr/local/lib/python3.10/dist-packages/sklearn/base.py\u001b[0m in \u001b[0;36mwrapper\u001b[0;34m(estimator, *args, **kwargs)\u001b[0m\n\u001b[1;32m   1471\u001b[0m                 )\n\u001b[1;32m   1472\u001b[0m             ):\n\u001b[0;32m-> 1473\u001b[0;31m                 \u001b[0;32mreturn\u001b[0m \u001b[0mfit_method\u001b[0m\u001b[0;34m(\u001b[0m\u001b[0mestimator\u001b[0m\u001b[0;34m,\u001b[0m \u001b[0;34m*\u001b[0m\u001b[0margs\u001b[0m\u001b[0;34m,\u001b[0m \u001b[0;34m**\u001b[0m\u001b[0mkwargs\u001b[0m\u001b[0;34m)\u001b[0m\u001b[0;34m\u001b[0m\u001b[0;34m\u001b[0m\u001b[0m\n\u001b[0m\u001b[1;32m   1474\u001b[0m \u001b[0;34m\u001b[0m\u001b[0m\n\u001b[1;32m   1475\u001b[0m         \u001b[0;32mreturn\u001b[0m \u001b[0mwrapper\u001b[0m\u001b[0;34m\u001b[0m\u001b[0;34m\u001b[0m\u001b[0m\n",
            "\u001b[0;32m/usr/local/lib/python3.10/dist-packages/sklearn/model_selection/_search.py\u001b[0m in \u001b[0;36mfit\u001b[0;34m(self, X, y, **params)\u001b[0m\n\u001b[1;32m   1017\u001b[0m                 \u001b[0;32mreturn\u001b[0m \u001b[0mresults\u001b[0m\u001b[0;34m\u001b[0m\u001b[0;34m\u001b[0m\u001b[0m\n\u001b[1;32m   1018\u001b[0m \u001b[0;34m\u001b[0m\u001b[0m\n\u001b[0;32m-> 1019\u001b[0;31m             \u001b[0mself\u001b[0m\u001b[0;34m.\u001b[0m\u001b[0m_run_search\u001b[0m\u001b[0;34m(\u001b[0m\u001b[0mevaluate_candidates\u001b[0m\u001b[0;34m)\u001b[0m\u001b[0;34m\u001b[0m\u001b[0;34m\u001b[0m\u001b[0m\n\u001b[0m\u001b[1;32m   1020\u001b[0m \u001b[0;34m\u001b[0m\u001b[0m\n\u001b[1;32m   1021\u001b[0m             \u001b[0;31m# multimetric is determined here because in the case of a callable\u001b[0m\u001b[0;34m\u001b[0m\u001b[0;34m\u001b[0m\u001b[0m\n",
            "\u001b[0;32m/usr/local/lib/python3.10/dist-packages/sklearn/model_selection/_search.py\u001b[0m in \u001b[0;36m_run_search\u001b[0;34m(self, evaluate_candidates)\u001b[0m\n\u001b[1;32m   1571\u001b[0m     \u001b[0;32mdef\u001b[0m \u001b[0m_run_search\u001b[0m\u001b[0;34m(\u001b[0m\u001b[0mself\u001b[0m\u001b[0;34m,\u001b[0m \u001b[0mevaluate_candidates\u001b[0m\u001b[0;34m)\u001b[0m\u001b[0;34m:\u001b[0m\u001b[0;34m\u001b[0m\u001b[0;34m\u001b[0m\u001b[0m\n\u001b[1;32m   1572\u001b[0m         \u001b[0;34m\"\"\"Search all candidates in param_grid\"\"\"\u001b[0m\u001b[0;34m\u001b[0m\u001b[0;34m\u001b[0m\u001b[0m\n\u001b[0;32m-> 1573\u001b[0;31m         \u001b[0mevaluate_candidates\u001b[0m\u001b[0;34m(\u001b[0m\u001b[0mParameterGrid\u001b[0m\u001b[0;34m(\u001b[0m\u001b[0mself\u001b[0m\u001b[0;34m.\u001b[0m\u001b[0mparam_grid\u001b[0m\u001b[0;34m)\u001b[0m\u001b[0;34m)\u001b[0m\u001b[0;34m\u001b[0m\u001b[0;34m\u001b[0m\u001b[0m\n\u001b[0m\u001b[1;32m   1574\u001b[0m \u001b[0;34m\u001b[0m\u001b[0m\n\u001b[1;32m   1575\u001b[0m \u001b[0;34m\u001b[0m\u001b[0m\n",
            "\u001b[0;32m/usr/local/lib/python3.10/dist-packages/sklearn/model_selection/_search.py\u001b[0m in \u001b[0;36mevaluate_candidates\u001b[0;34m(candidate_params, cv, more_results)\u001b[0m\n\u001b[1;32m    963\u001b[0m                     )\n\u001b[1;32m    964\u001b[0m \u001b[0;34m\u001b[0m\u001b[0m\n\u001b[0;32m--> 965\u001b[0;31m                 out = parallel(\n\u001b[0m\u001b[1;32m    966\u001b[0m                     delayed(_fit_and_score)(\n\u001b[1;32m    967\u001b[0m                         \u001b[0mclone\u001b[0m\u001b[0;34m(\u001b[0m\u001b[0mbase_estimator\u001b[0m\u001b[0;34m)\u001b[0m\u001b[0;34m,\u001b[0m\u001b[0;34m\u001b[0m\u001b[0;34m\u001b[0m\u001b[0m\n",
            "\u001b[0;32m/usr/local/lib/python3.10/dist-packages/sklearn/utils/parallel.py\u001b[0m in \u001b[0;36m__call__\u001b[0;34m(self, iterable)\u001b[0m\n\u001b[1;32m     72\u001b[0m             \u001b[0;32mfor\u001b[0m \u001b[0mdelayed_func\u001b[0m\u001b[0;34m,\u001b[0m \u001b[0margs\u001b[0m\u001b[0;34m,\u001b[0m \u001b[0mkwargs\u001b[0m \u001b[0;32min\u001b[0m \u001b[0miterable\u001b[0m\u001b[0;34m\u001b[0m\u001b[0;34m\u001b[0m\u001b[0m\n\u001b[1;32m     73\u001b[0m         )\n\u001b[0;32m---> 74\u001b[0;31m         \u001b[0;32mreturn\u001b[0m \u001b[0msuper\u001b[0m\u001b[0;34m(\u001b[0m\u001b[0;34m)\u001b[0m\u001b[0;34m.\u001b[0m\u001b[0m__call__\u001b[0m\u001b[0;34m(\u001b[0m\u001b[0miterable_with_config\u001b[0m\u001b[0;34m)\u001b[0m\u001b[0;34m\u001b[0m\u001b[0;34m\u001b[0m\u001b[0m\n\u001b[0m\u001b[1;32m     75\u001b[0m \u001b[0;34m\u001b[0m\u001b[0m\n\u001b[1;32m     76\u001b[0m \u001b[0;34m\u001b[0m\u001b[0m\n",
            "\u001b[0;32m/usr/local/lib/python3.10/dist-packages/joblib/parallel.py\u001b[0m in \u001b[0;36m__call__\u001b[0;34m(self, iterable)\u001b[0m\n\u001b[1;32m   1916\u001b[0m             \u001b[0moutput\u001b[0m \u001b[0;34m=\u001b[0m \u001b[0mself\u001b[0m\u001b[0;34m.\u001b[0m\u001b[0m_get_sequential_output\u001b[0m\u001b[0;34m(\u001b[0m\u001b[0miterable\u001b[0m\u001b[0;34m)\u001b[0m\u001b[0;34m\u001b[0m\u001b[0;34m\u001b[0m\u001b[0m\n\u001b[1;32m   1917\u001b[0m             \u001b[0mnext\u001b[0m\u001b[0;34m(\u001b[0m\u001b[0moutput\u001b[0m\u001b[0;34m)\u001b[0m\u001b[0;34m\u001b[0m\u001b[0;34m\u001b[0m\u001b[0m\n\u001b[0;32m-> 1918\u001b[0;31m             \u001b[0;32mreturn\u001b[0m \u001b[0moutput\u001b[0m \u001b[0;32mif\u001b[0m \u001b[0mself\u001b[0m\u001b[0;34m.\u001b[0m\u001b[0mreturn_generator\u001b[0m \u001b[0;32melse\u001b[0m \u001b[0mlist\u001b[0m\u001b[0;34m(\u001b[0m\u001b[0moutput\u001b[0m\u001b[0;34m)\u001b[0m\u001b[0;34m\u001b[0m\u001b[0;34m\u001b[0m\u001b[0m\n\u001b[0m\u001b[1;32m   1919\u001b[0m \u001b[0;34m\u001b[0m\u001b[0m\n\u001b[1;32m   1920\u001b[0m         \u001b[0;31m# Let's create an ID that uniquely identifies the current call. If the\u001b[0m\u001b[0;34m\u001b[0m\u001b[0;34m\u001b[0m\u001b[0m\n",
            "\u001b[0;32m/usr/local/lib/python3.10/dist-packages/joblib/parallel.py\u001b[0m in \u001b[0;36m_get_sequential_output\u001b[0;34m(self, iterable)\u001b[0m\n\u001b[1;32m   1845\u001b[0m                 \u001b[0mself\u001b[0m\u001b[0;34m.\u001b[0m\u001b[0mn_dispatched_batches\u001b[0m \u001b[0;34m+=\u001b[0m \u001b[0;36m1\u001b[0m\u001b[0;34m\u001b[0m\u001b[0;34m\u001b[0m\u001b[0m\n\u001b[1;32m   1846\u001b[0m                 \u001b[0mself\u001b[0m\u001b[0;34m.\u001b[0m\u001b[0mn_dispatched_tasks\u001b[0m \u001b[0;34m+=\u001b[0m \u001b[0;36m1\u001b[0m\u001b[0;34m\u001b[0m\u001b[0;34m\u001b[0m\u001b[0m\n\u001b[0;32m-> 1847\u001b[0;31m                 \u001b[0mres\u001b[0m \u001b[0;34m=\u001b[0m \u001b[0mfunc\u001b[0m\u001b[0;34m(\u001b[0m\u001b[0;34m*\u001b[0m\u001b[0margs\u001b[0m\u001b[0;34m,\u001b[0m \u001b[0;34m**\u001b[0m\u001b[0mkwargs\u001b[0m\u001b[0;34m)\u001b[0m\u001b[0;34m\u001b[0m\u001b[0;34m\u001b[0m\u001b[0m\n\u001b[0m\u001b[1;32m   1848\u001b[0m                 \u001b[0mself\u001b[0m\u001b[0;34m.\u001b[0m\u001b[0mn_completed_tasks\u001b[0m \u001b[0;34m+=\u001b[0m \u001b[0;36m1\u001b[0m\u001b[0;34m\u001b[0m\u001b[0;34m\u001b[0m\u001b[0m\n\u001b[1;32m   1849\u001b[0m                 \u001b[0mself\u001b[0m\u001b[0;34m.\u001b[0m\u001b[0mprint_progress\u001b[0m\u001b[0;34m(\u001b[0m\u001b[0;34m)\u001b[0m\u001b[0;34m\u001b[0m\u001b[0;34m\u001b[0m\u001b[0m\n",
            "\u001b[0;32m/usr/local/lib/python3.10/dist-packages/sklearn/utils/parallel.py\u001b[0m in \u001b[0;36m__call__\u001b[0;34m(self, *args, **kwargs)\u001b[0m\n\u001b[1;32m    134\u001b[0m             \u001b[0mconfig\u001b[0m \u001b[0;34m=\u001b[0m \u001b[0;34m{\u001b[0m\u001b[0;34m}\u001b[0m\u001b[0;34m\u001b[0m\u001b[0;34m\u001b[0m\u001b[0m\n\u001b[1;32m    135\u001b[0m         \u001b[0;32mwith\u001b[0m \u001b[0mconfig_context\u001b[0m\u001b[0;34m(\u001b[0m\u001b[0;34m**\u001b[0m\u001b[0mconfig\u001b[0m\u001b[0;34m)\u001b[0m\u001b[0;34m:\u001b[0m\u001b[0;34m\u001b[0m\u001b[0;34m\u001b[0m\u001b[0m\n\u001b[0;32m--> 136\u001b[0;31m             \u001b[0;32mreturn\u001b[0m \u001b[0mself\u001b[0m\u001b[0;34m.\u001b[0m\u001b[0mfunction\u001b[0m\u001b[0;34m(\u001b[0m\u001b[0;34m*\u001b[0m\u001b[0margs\u001b[0m\u001b[0;34m,\u001b[0m \u001b[0;34m**\u001b[0m\u001b[0mkwargs\u001b[0m\u001b[0;34m)\u001b[0m\u001b[0;34m\u001b[0m\u001b[0;34m\u001b[0m\u001b[0m\n\u001b[0m\u001b[1;32m    137\u001b[0m \u001b[0;34m\u001b[0m\u001b[0m\n\u001b[1;32m    138\u001b[0m \u001b[0;34m\u001b[0m\u001b[0m\n",
            "\u001b[0;32m/usr/local/lib/python3.10/dist-packages/sklearn/model_selection/_validation.py\u001b[0m in \u001b[0;36m_fit_and_score\u001b[0;34m(estimator, X, y, scorer, train, test, verbose, parameters, fit_params, score_params, return_train_score, return_parameters, return_n_test_samples, return_times, return_estimator, split_progress, candidate_progress, error_score)\u001b[0m\n\u001b[1;32m    886\u001b[0m             \u001b[0mestimator\u001b[0m\u001b[0;34m.\u001b[0m\u001b[0mfit\u001b[0m\u001b[0;34m(\u001b[0m\u001b[0mX_train\u001b[0m\u001b[0;34m,\u001b[0m \u001b[0;34m**\u001b[0m\u001b[0mfit_params\u001b[0m\u001b[0;34m)\u001b[0m\u001b[0;34m\u001b[0m\u001b[0;34m\u001b[0m\u001b[0m\n\u001b[1;32m    887\u001b[0m         \u001b[0;32melse\u001b[0m\u001b[0;34m:\u001b[0m\u001b[0;34m\u001b[0m\u001b[0;34m\u001b[0m\u001b[0m\n\u001b[0;32m--> 888\u001b[0;31m             \u001b[0mestimator\u001b[0m\u001b[0;34m.\u001b[0m\u001b[0mfit\u001b[0m\u001b[0;34m(\u001b[0m\u001b[0mX_train\u001b[0m\u001b[0;34m,\u001b[0m \u001b[0my_train\u001b[0m\u001b[0;34m,\u001b[0m \u001b[0;34m**\u001b[0m\u001b[0mfit_params\u001b[0m\u001b[0;34m)\u001b[0m\u001b[0;34m\u001b[0m\u001b[0;34m\u001b[0m\u001b[0m\n\u001b[0m\u001b[1;32m    889\u001b[0m \u001b[0;34m\u001b[0m\u001b[0m\n\u001b[1;32m    890\u001b[0m     \u001b[0;32mexcept\u001b[0m \u001b[0mException\u001b[0m\u001b[0;34m:\u001b[0m\u001b[0;34m\u001b[0m\u001b[0;34m\u001b[0m\u001b[0m\n",
            "\u001b[0;32m/usr/local/lib/python3.10/dist-packages/sklearn/base.py\u001b[0m in \u001b[0;36mwrapper\u001b[0;34m(estimator, *args, **kwargs)\u001b[0m\n\u001b[1;32m   1471\u001b[0m                 )\n\u001b[1;32m   1472\u001b[0m             ):\n\u001b[0;32m-> 1473\u001b[0;31m                 \u001b[0;32mreturn\u001b[0m \u001b[0mfit_method\u001b[0m\u001b[0;34m(\u001b[0m\u001b[0mestimator\u001b[0m\u001b[0;34m,\u001b[0m \u001b[0;34m*\u001b[0m\u001b[0margs\u001b[0m\u001b[0;34m,\u001b[0m \u001b[0;34m**\u001b[0m\u001b[0mkwargs\u001b[0m\u001b[0;34m)\u001b[0m\u001b[0;34m\u001b[0m\u001b[0;34m\u001b[0m\u001b[0m\n\u001b[0m\u001b[1;32m   1474\u001b[0m \u001b[0;34m\u001b[0m\u001b[0m\n\u001b[1;32m   1475\u001b[0m         \u001b[0;32mreturn\u001b[0m \u001b[0mwrapper\u001b[0m\u001b[0;34m\u001b[0m\u001b[0;34m\u001b[0m\u001b[0m\n",
            "\u001b[0;32m/usr/local/lib/python3.10/dist-packages/sklearn/svm/_base.py\u001b[0m in \u001b[0;36mfit\u001b[0;34m(self, X, y, sample_weight)\u001b[0m\n\u001b[1;32m    248\u001b[0m \u001b[0;34m\u001b[0m\u001b[0m\n\u001b[1;32m    249\u001b[0m         \u001b[0mseed\u001b[0m \u001b[0;34m=\u001b[0m \u001b[0mrnd\u001b[0m\u001b[0;34m.\u001b[0m\u001b[0mrandint\u001b[0m\u001b[0;34m(\u001b[0m\u001b[0mnp\u001b[0m\u001b[0;34m.\u001b[0m\u001b[0miinfo\u001b[0m\u001b[0;34m(\u001b[0m\u001b[0;34m\"i\"\u001b[0m\u001b[0;34m)\u001b[0m\u001b[0;34m.\u001b[0m\u001b[0mmax\u001b[0m\u001b[0;34m)\u001b[0m\u001b[0;34m\u001b[0m\u001b[0;34m\u001b[0m\u001b[0m\n\u001b[0;32m--> 250\u001b[0;31m         \u001b[0mfit\u001b[0m\u001b[0;34m(\u001b[0m\u001b[0mX\u001b[0m\u001b[0;34m,\u001b[0m \u001b[0my\u001b[0m\u001b[0;34m,\u001b[0m \u001b[0msample_weight\u001b[0m\u001b[0;34m,\u001b[0m \u001b[0msolver_type\u001b[0m\u001b[0;34m,\u001b[0m \u001b[0mkernel\u001b[0m\u001b[0;34m,\u001b[0m \u001b[0mrandom_seed\u001b[0m\u001b[0;34m=\u001b[0m\u001b[0mseed\u001b[0m\u001b[0;34m)\u001b[0m\u001b[0;34m\u001b[0m\u001b[0;34m\u001b[0m\u001b[0m\n\u001b[0m\u001b[1;32m    251\u001b[0m         \u001b[0;31m# see comment on the other call to np.iinfo in this file\u001b[0m\u001b[0;34m\u001b[0m\u001b[0;34m\u001b[0m\u001b[0m\n\u001b[1;32m    252\u001b[0m \u001b[0;34m\u001b[0m\u001b[0m\n",
            "\u001b[0;32m/usr/local/lib/python3.10/dist-packages/sklearn/svm/_base.py\u001b[0m in \u001b[0;36m_dense_fit\u001b[0;34m(self, X, y, sample_weight, solver_type, kernel, random_seed)\u001b[0m\n\u001b[1;32m    326\u001b[0m             \u001b[0mself\u001b[0m\u001b[0;34m.\u001b[0m\u001b[0mfit_status_\u001b[0m\u001b[0;34m,\u001b[0m\u001b[0;34m\u001b[0m\u001b[0;34m\u001b[0m\u001b[0m\n\u001b[1;32m    327\u001b[0m             \u001b[0mself\u001b[0m\u001b[0;34m.\u001b[0m\u001b[0m_num_iter\u001b[0m\u001b[0;34m,\u001b[0m\u001b[0;34m\u001b[0m\u001b[0;34m\u001b[0m\u001b[0m\n\u001b[0;32m--> 328\u001b[0;31m         \u001b[0;34m)\u001b[0m \u001b[0;34m=\u001b[0m \u001b[0mlibsvm\u001b[0m\u001b[0;34m.\u001b[0m\u001b[0mfit\u001b[0m\u001b[0;34m(\u001b[0m\u001b[0;34m\u001b[0m\u001b[0;34m\u001b[0m\u001b[0m\n\u001b[0m\u001b[1;32m    329\u001b[0m             \u001b[0mX\u001b[0m\u001b[0;34m,\u001b[0m\u001b[0;34m\u001b[0m\u001b[0;34m\u001b[0m\u001b[0m\n\u001b[1;32m    330\u001b[0m             \u001b[0my\u001b[0m\u001b[0;34m,\u001b[0m\u001b[0;34m\u001b[0m\u001b[0;34m\u001b[0m\u001b[0m\n",
            "\u001b[0;31mKeyboardInterrupt\u001b[0m: "
          ]
        }
      ]
    },
    {
      "cell_type": "code",
      "source": [
        "#Best Logistic Regression Params: {'C': 10, 'solver': 'liblinear'}\n",
        "#Best Random Forest Params: {'max_depth': 30, 'min_samples_split': 5, 'n_estimators': 100}"
      ],
      "metadata": {
        "id": "U2hGChn1his7"
      },
      "execution_count": null,
      "outputs": []
    },
    {
      "cell_type": "markdown",
      "source": [
        "## Models Tuning Explanation\n",
        "* 1. Logistic Regression Tuning:\n",
        "For Logistic Regression, you might want to tune:\n",
        "\n",
        "     C: Inverse of regularization strength (smaller values specify stronger regularization).\n",
        "solver: Algorithm to use in the optimization problem (e.g., 'lbfgs', 'liblinear').\n",
        "* 2. Random Forest Classifier Tuning:\n",
        "n_estimators: Number of trees in the forest.\n",
        "max_depth: Maximum depth of the tree.\n",
        "min_samples_split: Minimum number of samples required to split an internal node.\n",
        "* 3. SVC Tuning:\n",
        "C: Regularization parameter.\n",
        "kernel: Specifies the kernel type (e.g., 'linear', 'rbf', 'poly').\n",
        "gamma: Kernel coefficient (used for 'rbf', 'poly').\n",
        "* C: Regularization parameter.\n",
        "kernel: Specifies the kernel type (e.g., 'linear', 'rbf', 'poly').\n",
        "gamma: Kernel coefficient (used for 'rbf', 'poly')."
      ],
      "metadata": {
        "id": "adZHbe5Suzjt"
      }
    },
    {
      "cell_type": "code",
      "source": [
        "# 2. TUNED Logistic Regression (New Parameters)\n",
        "log_reg_model_new = LogisticRegression(C=10, solver='liblinear', max_iter=500)  # Tuned Params\n",
        "log_reg_model_new.fit(X_train_scaled_classification, y_train_classification)\n",
        "y_pred_log_reg_new = log_reg_model_new.predict(X_test_scaled_classification)"
      ],
      "metadata": {
        "id": "ct5ZD_OQ3arK"
      },
      "execution_count": null,
      "outputs": []
    },
    {
      "cell_type": "code",
      "source": [
        "# 4. TUNED Random Forest Classifier (New Parameters)\n",
        "rf_classifier_new = RandomForestClassifier(n_estimators=100, max_depth=30, min_samples_split=5, random_state=42)  # Tuned Params\n",
        "rf_classifier_new.fit(X_train_classification, y_train_classification)\n",
        "y_pred_rf_clf_new = rf_classifier_new.predict(X_test_classification)"
      ],
      "metadata": {
        "id": "5Ml9WBf-3vOL"
      },
      "execution_count": null,
      "outputs": []
    },
    {
      "cell_type": "code",
      "source": [
        "# Evaluating NEW models\n",
        "print_classification_metrics(y_test_classification, y_pred_log_reg_new, \"TUNED Logistic Regression\")\n",
        "print_classification_metrics(y_test_classification, y_pred_rf_clf_new, \"TUNED Random Forest Classifier\")"
      ],
      "metadata": {
        "colab": {
          "base_uri": "https://localhost:8080/"
        },
        "id": "1E9vFwgS3zNx",
        "outputId": "6c462eaf-f704-4e92-81f8-f7564149d374"
      },
      "execution_count": null,
      "outputs": [
        {
          "output_type": "stream",
          "name": "stdout",
          "text": [
            "--- TUNED Logistic Regression ---\n",
            "Accuracy: 0.8974265598446225\n",
            "Precision: 0.6424050632911392\n",
            "Recall: 0.21711229946524063\n",
            "F1 Score: 0.32454036770583533\n",
            "\n",
            "--- TUNED Random Forest Classifier ---\n",
            "Accuracy: 0.8958485069191552\n",
            "Precision: 0.5893271461716937\n",
            "Recall: 0.2716577540106952\n",
            "F1 Score: 0.3718887262079063\n",
            "\n"
          ]
        }
      ]
    },
    {
      "cell_type": "markdown",
      "source": [
        "## OLD Models Metrics (LR), (RFC)\n",
        "**--- Logistic Regression ---**\n",
        "* Accuracy: 0.8968196164117505\n",
        "* Precision: 0.6366559485530546\n",
        "* Recall: 0.21176470588235294\n",
        "* F1 Score: 0.31781701444622795\n",
        "\n",
        "**--- Random Forest Classifier ---**\n",
        "* Accuracy: 0.891964068948774\n",
        "* Precision: 0.5445544554455446\n",
        "* Recall: 0.29411764705882354\n",
        "* F1 Score: 0.3819444444444444\n",
        "\n"
      ],
      "metadata": {
        "id": "jgRoR-8Y5GHa"
      }
    },
    {
      "cell_type": "markdown",
      "source": [
        "##Explonation of Tuned Models's OUTPUT\n",
        "* **Logistic Regression**: The tuned version is slightly better in all aspects, with improvements in accuracy, precision, recall, and F1 score.\n",
        "* **Random Forest Classifier**: The tuned version has a higher accuracy and precision, but there’s a trade-off in recall and F1 score. This indicates that while it's better at avoiding false positives, it misses slightly more true positives."
      ],
      "metadata": {
        "id": "oZF3esph58l3"
      }
    }
  ]
}